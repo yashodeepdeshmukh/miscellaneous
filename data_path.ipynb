{
 "cells": [
  {
   "cell_type": "code",
   "execution_count": 1,
   "id": "f498e394",
   "metadata": {
    "ExecuteTime": {
     "end_time": "2021-11-18T16:03:02.873030Z",
     "start_time": "2021-11-18T16:02:29.912111Z"
    }
   },
   "outputs": [
    {
     "name": "stdout",
     "output_type": "stream",
     "text": [
      "[]
    }
   ],
   "source": [
    "import os\n",
    "import pandas as pd\n",
    "\n",
    "os.chdir(PATH)\n",
    "dir_path=os.getcwd()\n",
    "FOLDERNAME1_path=os.path.join(dir_path,FOLDERNAME1)\n",
    "FOLDERNAME2_path=os.path.join(dir_path,FOLDERNAME2)\n",
    "datasets=[]\n",
    "#FOLDERNAME1\n",
    "list1=os.listdir(FOLDERNAME1)\n",
    "file1={}\n",
    "for i in list1:\n",
    "    n=''.join((i.split('.'))[:-1])\n",
    "    file=os.path.join(cell_model_path,i)\n",
    "    file1[n]=pd.read_csv(file,low_memory=False,index_col=0)\n",
    "\n",
    "for key,val in file1.items():\n",
    "        exec(key + '=val')\n",
    "        datasets.append(key)\n",
    "#FOLDERNAME2\n",
    "list2=os.listdir(FOLDERNAME2)\n",
    "file2={}\n",
    "for j in list2:\n",
    "    m=''.join((j.split('.'))[:-1])\n",
    "    file=os.path.join(tcga_path,j)\n",
    "    file2[m]=pd.read_csv(file,low_memory=False,index_col=0)\n",
    "for key,val in file2.items():\n",
    "        exec(key + '=val')\n",
    "        datasets.append(key)\n",
    "print(datasets)"
   ]
  }
 ],
 "metadata": {
  "hide_input": false,
  "kernelspec": {
   "display_name": "Python 3 (ipykernel)",
   "language": "python",
   "name": "python3"
  },
  "language_info": {
   "codemirror_mode": {
    "name": "ipython",
    "version": 3
   },
   "file_extension": ".py",
   "mimetype": "text/x-python",
   "name": "python",
   "nbconvert_exporter": "python",
   "pygments_lexer": "ipython3",
   "version": "3.8.12"
  },
  "varInspector": {
   "cols": {
    "lenName": 16,
    "lenType": 16,
    "lenVar": 40
   },
   "kernels_config": {
    "python": {
     "delete_cmd_postfix": "",
     "delete_cmd_prefix": "del ",
     "library": "var_list.py",
     "varRefreshCmd": "print(var_dic_list())"
    },
    "r": {
     "delete_cmd_postfix": ") ",
     "delete_cmd_prefix": "rm(",
     "library": "var_list.r",
     "varRefreshCmd": "cat(var_dic_list()) "
    }
   },
   "position": {
    "height": "144.85px",
    "left": "1169.2px",
    "right": "20px",
    "top": "132px",
    "width": "350px"
   },
   "types_to_exclude": [
    "module",
    "function",
    "builtin_function_or_method",
    "instance",
    "_Feature"
   ],
   "window_display": false
  }
 },
 "nbformat": 4,
 "nbformat_minor": 5
}
